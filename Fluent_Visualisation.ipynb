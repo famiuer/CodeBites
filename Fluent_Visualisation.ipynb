{
 "cells": [
  {
   "attachments": {},
   "cell_type": "markdown",
   "metadata": {},
   "source": [
    "# A notebook to plot the results of the Fluent simulations"
   ]
  },
  {
   "cell_type": "code",
   "execution_count": null,
   "metadata": {},
   "outputs": [],
   "source": [
    "# import dependencies\n",
    "import numpy as np\n",
    "import pandas as pd\n",
    "import matplotlib.pyplot as plt\n",
    "import os\n",
    "from tqdm import tqdm\n",
    "import imageio.v2 as imageio"
   ]
  },
  {
   "cell_type": "code",
   "execution_count": null,
   "metadata": {},
   "outputs": [],
   "source": [
    "# import data\n",
    "\n",
    "# load data\n",
    "xy_folder = r\"C:\\Temp\\CFD\\tutorial 3\\Fluent Files\\\\\"\n",
    "xylist = [f for f in os.listdir(xy_folder) if f.startswith('external_cylinder_lines')]\n",
    "#print(xylist)"
   ]
  },
  {
   "cell_type": "code",
   "execution_count": null,
   "metadata": {},
   "outputs": [],
   "source": [
    "temp = pd.read_csv(xy_folder + xylist[0], delim_whitespace=True)\n",
    "temp['magnitude'] = np.sqrt(temp['x-velocity']**2 + temp['y-velocity']**2 )\n",
    "temp.head()"
   ]
  },
  {
   "cell_type": "code",
   "execution_count": null,
   "metadata": {},
   "outputs": [],
   "source": [
    "#set the figure size \n",
    "plt.figure(figsize=(4,3), dpi=300)\n",
    "\n",
    "plt.plot(temp['x-coordinate'], temp['y-coordinate'], '.')\n",
    "\n",
    "# coordinates precision is 2 decimal places\n",
    "for i in range(0, len(temp)):\n",
    "    plt.text(temp['x-coordinate'][i], temp['y-coordinate'][i], str((round(temp['x-coordinate'][i], 2), round(temp['y-coordinate'][i], 2))), fontsize=2)\n",
    "plt.show()\n"
   ]
  },
  {
   "cell_type": "code",
   "execution_count": null,
   "metadata": {},
   "outputs": [],
   "source": [
    "# plot velocity arrows on 2D plot\n",
    "\n",
    "plt.figure(figsize=(8,6), dpi=300)\n",
    "\n",
    "plt.quiver(temp['x-coordinate'], temp['y-coordinate'], temp['x-velocity'], temp['y-velocity'],temp['magnitude'],cmap='Reds', scale=50, width=0.0015, headwidth=3, headlength=4, headaxislength=5)\n",
    "\n",
    "plt.show()\n",
    "# save the figure\n",
    "output_dir = r\"c:\\Temp\\CFD\\tutorial 3\\Fluent Files\"\n",
    "#plt.savefig(output_dir + 'velocity_arrows.png', dpi=300, bbox_inches='tight')\n"
   ]
  },
  {
   "cell_type": "code",
   "execution_count": null,
   "metadata": {},
   "outputs": [],
   "source": [
    "\n",
    "for i in tqdm(range(0, len(xylist))):\n",
    "    temp = pd.read_csv(xy_folder + xylist[i], delim_whitespace=True)\n",
    "    temp['magnitude'] = np.sqrt(temp['x-velocity']**2 + temp['y-velocity']**2 )\n",
    "    \n",
    "    fig = plt.figure(figsize=(8,6), dpi=300)\n",
    "\n",
    "    plt.title('Velocity field', fontsize=10)\n",
    "\n",
    "    plt.text(34, 20, 'Timestep: ' + xylist[i][-4:], fontsize=10)\n",
    "\n",
    "    im = plt.quiver(temp['x-coordinate'], temp['y-coordinate'], temp['x-velocity'], temp['y-velocity'],temp['magnitude'],cmap='Reds', scale=40, width=0.002, headwidth=3, headlength=4, headaxislength=5)\n",
    "    \n",
    "    plt.savefig(xy_folder  +xylist[i]+ '_velocity.png', dpi=500, bbox_inches='tight')\n",
    " \n",
    "\n",
    "    plt.close()\n"
   ]
  },
  {
   "cell_type": "code",
   "execution_count": null,
   "metadata": {},
   "outputs": [],
   "source": [
    "# combine all the png files to a gif file via imageio package\n",
    "\n",
    "png_files = [f for f in os.listdir(output_dir) if f.endswith('.png')]\n",
    "\n",
    "images = []\n",
    "for file_name in tqdm(png_files):\n",
    "    file_path = os.path.join(output_dir, file_name)\n",
    "    images.append(imageio.imread(file_path))\n",
    "imageio.mimsave(output_dir+ '\\\\' + 'velocity.gif', images, duration=0.15)"
   ]
  },
  {
   "cell_type": "code",
   "execution_count": null,
   "metadata": {},
   "outputs": [],
   "source": [
    "imageio.mimsave(output_dir+ '\\\\' + 'velocity.mp4', images, fps=10)"
   ]
  }
 ],
 "metadata": {
  "kernelspec": {
   "display_name": "ai",
   "language": "python",
   "name": "python3"
  },
  "language_info": {
   "codemirror_mode": {
    "name": "ipython",
    "version": 3
   },
   "file_extension": ".py",
   "mimetype": "text/x-python",
   "name": "python",
   "nbconvert_exporter": "python",
   "pygments_lexer": "ipython3",
   "version": "3.9.0"
  },
  "orig_nbformat": 4
 },
 "nbformat": 4,
 "nbformat_minor": 2
}

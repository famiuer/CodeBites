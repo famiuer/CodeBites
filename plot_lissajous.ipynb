{
 "cells": [
  {
   "cell_type": "code",
   "execution_count": 3,
   "metadata": {},
   "outputs": [
    {
     "name": "stdout",
     "output_type": "stream",
     "text": [
      "Enabling notebook extension jupyter-js-widgets/extension...\n",
      "      - Validating: \u001b[32mOK\u001b[0m\n"
     ]
    },
    {
     "data": {
      "application/vnd.jupyter.widget-view+json": {
       "model_id": "8c65fe453d6e40108feffcf84c2a267e",
       "version_major": 2,
       "version_minor": 0
      },
      "text/plain": [
       "interactive(children=(FloatSlider(value=1.0, description='Frequency (ω)', max=5.0, min=0.1), FloatSlider(value…"
      ]
     },
     "metadata": {},
     "output_type": "display_data"
    }
   ],
   "source": [
    "!jupyter nbextension enable --py widgetsnbextension\n",
    "%matplotlib widget\n",
    "import numpy as np\n",
    "import matplotlib.pyplot as plt\n",
    "from ipywidgets import interact, FloatSlider\n",
    "\n",
    "# Define the parametric function\n",
    "def plot_lissajous(omega, phi):\n",
    "    t = np.linspace(0, 2 * np.pi, 1000)\n",
    "    x = np.sin(omega * t)\n",
    "    y = np.sin(omega * t + phi)\n",
    "    \n",
    "    plt.figure(figsize=(6, 6))\n",
    "    plt.plot(x, y)\n",
    "    plt.xlim(-1, 1)\n",
    "    plt.ylim(-1, 1)\n",
    "    plt.xlabel('x = sin(ωt)')\n",
    "    plt.ylabel('y = sin(ωt + φ)')\n",
    "    plt.title('Lissajous Curve')\n",
    "    plt.show()\n",
    "\n",
    "# Create interactive widgets\n",
    "omega_slider = FloatSlider(value=1.0, min=0.1, max=5.0, step=0.1, description='Frequency (ω)')\n",
    "phi_slider = FloatSlider(value=0, min=0, max=2*np.pi, step=np.pi/16, description='Phase (φ)')\n",
    "\n",
    "# Use the interact function to create the interactivity\n",
    "interact(plot_lissajous, omega=omega_slider, phi=phi_slider);\n"
   ]
  },
  {
   "cell_type": "code",
   "execution_count": null,
   "metadata": {},
   "outputs": [],
   "source": []
  }
 ],
 "metadata": {
  "kernelspec": {
   "display_name": "metocean",
   "language": "python",
   "name": "python3"
  },
  "language_info": {
   "codemirror_mode": {
    "name": "ipython",
    "version": 3
   },
   "file_extension": ".py",
   "mimetype": "text/x-python",
   "name": "python",
   "nbconvert_exporter": "python",
   "pygments_lexer": "ipython3",
   "version": "3.9.18"
  }
 },
 "nbformat": 4,
 "nbformat_minor": 2
}

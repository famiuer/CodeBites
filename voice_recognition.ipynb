{
 "cells": [
  {
   "cell_type": "code",
   "execution_count": null,
   "metadata": {},
   "outputs": [],
   "source": [
    "# Note: you need to be using OpenAI Python v0.27.0 for the code below to work\n",
    "import openai\n",
    "openai.api_key =\"sk-xxxxxxxxxxxxxxxxxxxxxxxxxxxxxxxxxxxxxxxx\"# your API key apply from  https://platform.openai.com/account/api-keys\n"
   ]
  },
  {
   "attachments": {},
   "cell_type": "markdown",
   "metadata": {},
   "source": [
    "If the input file is larger than 25 MB, files can be compressed or splitted by [FFmpeg](https://ffmpeg.org/).\n",
    "\n",
    "```\n",
    " ffmpeg -i input.file -map 0:a:0 -b:a 96k output.mp3 \n",
    "```\n",
    "-segment_time in seconds\n",
    "\n",
    "```\n",
    " fffmpeg -i somefile.mp3 -f segment -segment_time 300 -c copy out%03d.mp3\n",
    "```\n"
   ]
  },
  {
   "cell_type": "code",
   "execution_count": null,
   "metadata": {},
   "outputs": [],
   "source": [
    "# loop through the mp3 files in current folder \n",
    "\n",
    "import os\n",
    "import glob\n",
    "import openai\n",
    "from tqdm import tqdm \n",
    "filelist = glob.glob('*.mp3')\n",
    "\n",
    "#print filelist\n",
    "print(filelist)\n",
    "\n",
    "for file in tqdm(filelist):\n",
    "    print(file)\n",
    "    audio_file= open(file, \"rb\")\n",
    "    transcript = openai.Audio.translate(\"whisper-1\", audio_file)\n",
    "    transcript_text = transcript.text\n",
    "    #write the transcript_text to a text file\n",
    "    f = open(file + \".txt\", \"w\")\n",
    "    f.write(transcript_text)\n",
    "    f.close()"
   ]
  }
 ],
 "metadata": {
  "kernelspec": {
   "display_name": "ai",
   "language": "python",
   "name": "python3"
  },
  "language_info": {
   "codemirror_mode": {
    "name": "ipython",
    "version": 3
   },
   "file_extension": ".py",
   "mimetype": "text/x-python",
   "name": "python",
   "nbconvert_exporter": "python",
   "pygments_lexer": "ipython3",
   "version": "3.11.0"
  },
  "orig_nbformat": 4
 },
 "nbformat": 4,
 "nbformat_minor": 2
}
